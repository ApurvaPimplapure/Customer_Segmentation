{
 "cells": [
  {
   "cell_type": "code",
   "execution_count": 1,
   "id": "5fc057af",
   "metadata": {},
   "outputs": [],
   "source": [
    "import numpy as np, pandas as pd, re, scipy as sp, scipy.stats\n",
    "from matplotlib import pyplot as plt\n",
    "import seaborn as sns"
   ]
  },
  {
   "cell_type": "code",
   "execution_count": 2,
   "id": "64ca8711",
   "metadata": {},
   "outputs": [],
   "source": [
    "\n",
    "from IPython.core.interactiveshell import InteractiveShell\n",
    "InteractiveShell.ast_node_interactiveshell='all'\n"
   ]
  },
  {
   "cell_type": "code",
   "execution_count": 10,
   "id": "357a281d",
   "metadata": {},
   "outputs": [
    {
     "name": "stdout",
     "output_type": "stream",
     "text": [
      "<class 'pandas.core.frame.DataFrame'>\n",
      "RangeIndex: 541909 entries, 0 to 541908\n",
      "Data columns (total 8 columns):\n",
      " #   Column       Non-Null Count   Dtype  \n",
      "---  ------       --------------   -----  \n",
      " 0   InvoiceNo    541909 non-null  object \n",
      " 1   StockCode    541909 non-null  object \n",
      " 2   Description  540455 non-null  object \n",
      " 3   Quantity     541909 non-null  int64  \n",
      " 4   InvoiceDate  541909 non-null  object \n",
      " 5   UnitPrice    541909 non-null  float64\n",
      " 6   CustomerID   406829 non-null  Int64  \n",
      " 7   Country      541909 non-null  object \n",
      "dtypes: Int64(1), float64(1), int64(1), object(5)\n",
      "memory usage: 33.6+ MB\n"
     ]
    },
    {
     "data": {
      "text/html": [
       "<div>\n",
       "<style scoped>\n",
       "    .dataframe tbody tr th:only-of-type {\n",
       "        vertical-align: middle;\n",
       "    }\n",
       "\n",
       "    .dataframe tbody tr th {\n",
       "        vertical-align: top;\n",
       "    }\n",
       "\n",
       "    .dataframe thead th {\n",
       "        text-align: right;\n",
       "    }\n",
       "</style>\n",
       "<table border=\"1\" class=\"dataframe\">\n",
       "  <thead>\n",
       "    <tr style=\"text-align: right;\">\n",
       "      <th></th>\n",
       "      <th>InvoiceNo</th>\n",
       "      <th>StockCode</th>\n",
       "      <th>Description</th>\n",
       "      <th>Quantity</th>\n",
       "      <th>InvoiceDate</th>\n",
       "      <th>UnitPrice</th>\n",
       "      <th>CustomerID</th>\n",
       "      <th>Country</th>\n",
       "    </tr>\n",
       "  </thead>\n",
       "  <tbody>\n",
       "    <tr>\n",
       "      <th>0</th>\n",
       "      <td>536365</td>\n",
       "      <td>85123A</td>\n",
       "      <td>WHITE HANGING HEART T-LIGHT HOLDER</td>\n",
       "      <td>6</td>\n",
       "      <td>12-01-2010 08:26</td>\n",
       "      <td>2.55</td>\n",
       "      <td>17850</td>\n",
       "      <td>United Kingdom</td>\n",
       "    </tr>\n",
       "    <tr>\n",
       "      <th>1</th>\n",
       "      <td>536365</td>\n",
       "      <td>71053</td>\n",
       "      <td>WHITE METAL LANTERN</td>\n",
       "      <td>6</td>\n",
       "      <td>12-01-2010 08:26</td>\n",
       "      <td>3.39</td>\n",
       "      <td>17850</td>\n",
       "      <td>United Kingdom</td>\n",
       "    </tr>\n",
       "    <tr>\n",
       "      <th>2</th>\n",
       "      <td>536365</td>\n",
       "      <td>84406B</td>\n",
       "      <td>CREAM CUPID HEARTS COAT HANGER</td>\n",
       "      <td>8</td>\n",
       "      <td>12-01-2010 08:26</td>\n",
       "      <td>2.75</td>\n",
       "      <td>17850</td>\n",
       "      <td>United Kingdom</td>\n",
       "    </tr>\n",
       "    <tr>\n",
       "      <th>3</th>\n",
       "      <td>536365</td>\n",
       "      <td>84029G</td>\n",
       "      <td>KNITTED UNION FLAG HOT WATER BOTTLE</td>\n",
       "      <td>6</td>\n",
       "      <td>12-01-2010 08:26</td>\n",
       "      <td>3.39</td>\n",
       "      <td>17850</td>\n",
       "      <td>United Kingdom</td>\n",
       "    </tr>\n",
       "    <tr>\n",
       "      <th>4</th>\n",
       "      <td>536365</td>\n",
       "      <td>84029E</td>\n",
       "      <td>RED WOOLLY HOTTIE WHITE HEART.</td>\n",
       "      <td>6</td>\n",
       "      <td>12-01-2010 08:26</td>\n",
       "      <td>3.39</td>\n",
       "      <td>17850</td>\n",
       "      <td>United Kingdom</td>\n",
       "    </tr>\n",
       "  </tbody>\n",
       "</table>\n",
       "</div>"
      ],
      "text/plain": [
       "  InvoiceNo StockCode                          Description  Quantity  \\\n",
       "0    536365    85123A   WHITE HANGING HEART T-LIGHT HOLDER         6   \n",
       "1    536365     71053                  WHITE METAL LANTERN         6   \n",
       "2    536365    84406B       CREAM CUPID HEARTS COAT HANGER         8   \n",
       "3    536365    84029G  KNITTED UNION FLAG HOT WATER BOTTLE         6   \n",
       "4    536365    84029E       RED WOOLLY HOTTIE WHITE HEART.         6   \n",
       "\n",
       "        InvoiceDate  UnitPrice  CustomerID         Country  \n",
       "0  12-01-2010 08:26       2.55       17850  United Kingdom  \n",
       "1  12-01-2010 08:26       3.39       17850  United Kingdom  \n",
       "2  12-01-2010 08:26       2.75       17850  United Kingdom  \n",
       "3  12-01-2010 08:26       3.39       17850  United Kingdom  \n",
       "4  12-01-2010 08:26       3.39       17850  United Kingdom  "
      ]
     },
     "execution_count": 10,
     "metadata": {},
     "output_type": "execute_result"
    }
   ],
   "source": [
    "#Importing Dataset\n",
    "pd.options.mode.chained_assignment = None\n",
    "Data = pd.read_csv(\"D:\\SEM 4\\DAB402 - CAPSTONE PROJECT\\Online Retail_1.csv\", dtype= {'CustomerID': 'Int64'}, encoding= 'unicode_escape')\n",
    "Data.info()\n",
    "Data.head(5)"
   ]
  },
  {
   "cell_type": "code",
   "execution_count": 11,
   "id": "625b63c4",
   "metadata": {},
   "outputs": [
    {
     "data": {
      "image/png": "[encoded data removed]",
      "text/plain": [
       "<Figure size 864x648 with 2 Axes>"
      ]
     },
     "metadata": {
      "needs_background": "light"
     },
     "output_type": "display_data"
    }
   ],
   "source": [
    "\n",
    "# A plot of the correlations using a Heat Map. Heat Maps are a great way to visualize correlations using color coding.\n",
    "# I'll use  viridis as a color scheme, and also use , Blues, and YlGnBu as I've used RdBu in the previous cell.\n",
    "plt.figure(figsize = (12, 9))\n",
    "s = sns.heatmap(Data.corr(),\n",
    "               annot = True, \n",
    "               cmap = 'RdBu')\n",
    "s.set_yticklabels(s.get_yticklabels(), rotation = 0, fontsize = 12)\n",
    "s.set_xticklabels(s.get_xticklabels(), rotation = 90, fontsize = 12)\n",
    "plt.title('Correlation Heatmap')\n",
    "plt.show()"
   ]
  },
  {
   "cell_type": "code",
   "execution_count": 12,
   "id": "83d34f95",
   "metadata": {},
   "outputs": [
    {
     "name": "stderr",
     "output_type": "stream",
     "text": [
      "<ipython-input-12-d96fd565efd7>:2: FutureWarning: The default value of regex will change from True to False in a future version. In addition, single character regular expressions will *not* be treated as literal strings when regex=True.\n",
      "  Data['Description'] = Data['Description'].str.replace('.','').str.upper().str.strip()\n"
     ]
    },
    {
     "data": {
      "text/html": [
       "<div>\n",
       "<style scoped>\n",
       "    .dataframe tbody tr th:only-of-type {\n",
       "        vertical-align: middle;\n",
       "    }\n",
       "\n",
       "    .dataframe tbody tr th {\n",
       "        vertical-align: top;\n",
       "    }\n",
       "\n",
       "    .dataframe thead th {\n",
       "        text-align: right;\n",
       "    }\n",
       "</style>\n",
       "<table border=\"1\" class=\"dataframe\">\n",
       "  <thead>\n",
       "    <tr style=\"text-align: right;\">\n",
       "      <th></th>\n",
       "      <th>InvoiceNo</th>\n",
       "      <th>StockCode</th>\n",
       "      <th>Description</th>\n",
       "      <th>Quantity</th>\n",
       "      <th>InvoiceDate</th>\n",
       "      <th>UnitPrice</th>\n",
       "      <th>CustomerID</th>\n",
       "      <th>Country</th>\n",
       "    </tr>\n",
       "  </thead>\n",
       "  <tbody>\n",
       "    <tr>\n",
       "      <th>0</th>\n",
       "      <td>536365</td>\n",
       "      <td>85123A</td>\n",
       "      <td>WHITE HANGING HEART T-LIGHT HOLDER</td>\n",
       "      <td>6</td>\n",
       "      <td>12-01-2010 08:26</td>\n",
       "      <td>2.55</td>\n",
       "      <td>17850</td>\n",
       "      <td>UNITED KINGDOM</td>\n",
       "    </tr>\n",
       "    <tr>\n",
       "      <th>1</th>\n",
       "      <td>536365</td>\n",
       "      <td>71053</td>\n",
       "      <td>WHITE METAL LANTERN</td>\n",
       "      <td>6</td>\n",
       "      <td>12-01-2010 08:26</td>\n",
       "      <td>3.39</td>\n",
       "      <td>17850</td>\n",
       "      <td>UNITED KINGDOM</td>\n",
       "    </tr>\n",
       "    <tr>\n",
       "      <th>2</th>\n",
       "      <td>536365</td>\n",
       "      <td>84406B</td>\n",
       "      <td>CREAM CUPID HEARTS COAT HANGER</td>\n",
       "      <td>8</td>\n",
       "      <td>12-01-2010 08:26</td>\n",
       "      <td>2.75</td>\n",
       "      <td>17850</td>\n",
       "      <td>UNITED KINGDOM</td>\n",
       "    </tr>\n",
       "    <tr>\n",
       "      <th>3</th>\n",
       "      <td>536365</td>\n",
       "      <td>84029G</td>\n",
       "      <td>KNITTED UNION FLAG HOT WATER BOTTLE</td>\n",
       "      <td>6</td>\n",
       "      <td>12-01-2010 08:26</td>\n",
       "      <td>3.39</td>\n",
       "      <td>17850</td>\n",
       "      <td>UNITED KINGDOM</td>\n",
       "    </tr>\n",
       "    <tr>\n",
       "      <th>4</th>\n",
       "      <td>536365</td>\n",
       "      <td>84029E</td>\n",
       "      <td>RED WOOLLY HOTTIE WHITE HEART</td>\n",
       "      <td>6</td>\n",
       "      <td>12-01-2010 08:26</td>\n",
       "      <td>3.39</td>\n",
       "      <td>17850</td>\n",
       "      <td>UNITED KINGDOM</td>\n",
       "    </tr>\n",
       "  </tbody>\n",
       "</table>\n",
       "</div>"
      ],
      "text/plain": [
       "  InvoiceNo StockCode                          Description  Quantity  \\\n",
       "0    536365    85123A   WHITE HANGING HEART T-LIGHT HOLDER         6   \n",
       "1    536365     71053                  WHITE METAL LANTERN         6   \n",
       "2    536365    84406B       CREAM CUPID HEARTS COAT HANGER         8   \n",
       "3    536365    84029G  KNITTED UNION FLAG HOT WATER BOTTLE         6   \n",
       "4    536365    84029E        RED WOOLLY HOTTIE WHITE HEART         6   \n",
       "\n",
       "        InvoiceDate  UnitPrice  CustomerID         Country  \n",
       "0  12-01-2010 08:26       2.55       17850  UNITED KINGDOM  \n",
       "1  12-01-2010 08:26       3.39       17850  UNITED KINGDOM  \n",
       "2  12-01-2010 08:26       2.75       17850  UNITED KINGDOM  \n",
       "3  12-01-2010 08:26       3.39       17850  UNITED KINGDOM  \n",
       "4  12-01-2010 08:26       3.39       17850  UNITED KINGDOM  "
      ]
     },
     "execution_count": 12,
     "metadata": {},
     "output_type": "execute_result"
    }
   ],
   "source": [
    "#Strings\n",
    "Data['Description'] = Data['Description'].str.replace('.','').str.upper().str.strip()\n",
    "Data['Description'] = Data['Description'].replace('\\s+',' ',regex = True)\n",
    "Data['InvoiceNo'] = Data['InvoiceNo'].astype(str).str.upper()\n",
    "Data['StockCode'] = Data['StockCode'].str.upper()\n",
    "Data['Country'] = Data['Country'].str.upper()\n",
    "Data.head()"
   ]
  },
  {
   "cell_type": "code",
   "execution_count": 13,
   "id": "60d7e174",
   "metadata": {},
   "outputs": [
    {
     "name": "stdout",
     "output_type": "stream",
     "text": [
      "Irrelevant Transactions: \n",
      " ['S' 'POST' 'PADS' 'M']\n"
     ]
    },
    {
     "data": {
      "text/html": [
       "<div>\n",
       "<style scoped>\n",
       "    .dataframe tbody tr th:only-of-type {\n",
       "        vertical-align: middle;\n",
       "    }\n",
       "\n",
       "    .dataframe tbody tr th {\n",
       "        vertical-align: top;\n",
       "    }\n",
       "\n",
       "    .dataframe thead th {\n",
       "        text-align: right;\n",
       "    }\n",
       "</style>\n",
       "<table border=\"1\" class=\"dataframe\">\n",
       "  <thead>\n",
       "    <tr style=\"text-align: right;\">\n",
       "      <th></th>\n",
       "      <th>Quantity</th>\n",
       "      <th>UnitPrice</th>\n",
       "    </tr>\n",
       "  </thead>\n",
       "  <tbody>\n",
       "    <tr>\n",
       "      <th>count</th>\n",
       "      <td>541909.000000</td>\n",
       "      <td>541909.000000</td>\n",
       "    </tr>\n",
       "    <tr>\n",
       "      <th>mean</th>\n",
       "      <td>9.552250</td>\n",
       "      <td>4.611114</td>\n",
       "    </tr>\n",
       "    <tr>\n",
       "      <th>std</th>\n",
       "      <td>218.081158</td>\n",
       "      <td>96.759853</td>\n",
       "    </tr>\n",
       "    <tr>\n",
       "      <th>min</th>\n",
       "      <td>-80995.000000</td>\n",
       "      <td>-11062.060000</td>\n",
       "    </tr>\n",
       "    <tr>\n",
       "      <th>25%</th>\n",
       "      <td>1.000000</td>\n",
       "      <td>1.250000</td>\n",
       "    </tr>\n",
       "    <tr>\n",
       "      <th>50%</th>\n",
       "      <td>3.000000</td>\n",
       "      <td>2.080000</td>\n",
       "    </tr>\n",
       "    <tr>\n",
       "      <th>75%</th>\n",
       "      <td>10.000000</td>\n",
       "      <td>4.130000</td>\n",
       "    </tr>\n",
       "    <tr>\n",
       "      <th>max</th>\n",
       "      <td>80995.000000</td>\n",
       "      <td>38970.000000</td>\n",
       "    </tr>\n",
       "  </tbody>\n",
       "</table>\n",
       "</div>"
      ],
      "text/plain": [
       "            Quantity      UnitPrice\n",
       "count  541909.000000  541909.000000\n",
       "mean        9.552250       4.611114\n",
       "std       218.081158      96.759853\n",
       "min    -80995.000000  -11062.060000\n",
       "25%         1.000000       1.250000\n",
       "50%         3.000000       2.080000\n",
       "75%        10.000000       4.130000\n",
       "max     80995.000000   38970.000000"
      ]
     },
     "execution_count": 13,
     "metadata": {},
     "output_type": "execute_result"
    }
   ],
   "source": [
    "#Listing Some Irrelevant StockCodes\n",
    "Irrelevant = Data['StockCode'].unique()\n",
    "Irrelevant.sort()\n",
    "print('Irrelevant Transactions: \\n',Irrelevant[::-1][:4])\n",
    "#Quantity and UnitPrice Summary\n",
    "Data.describe().iloc[:,:2]\n",
    "#As it is obvious in the summary of our dataset, we have some odd and irregular values in the 'UnitPrice' and 'Quantity'\n",
    "#columns that we will find and remove to prevent them from negatively affect our analysis. In the 'StockCode' variable\n",
    "#we can see that some of the transaction are not actually products,\n",
    "#but they are some costs or fees regarding to the post or bank or other tansactions that we don't really need in our data."
   ]
  },
  {
   "cell_type": "code",
   "execution_count": 14,
   "id": "957290fa",
   "metadata": {},
   "outputs": [
    {
     "data": {
      "text/plain": [
       "535268"
      ]
     },
     "execution_count": 14,
     "metadata": {},
     "output_type": "execute_result"
    }
   ],
   "source": [
    "#Outliers and Irrelevant Values\n",
    "#Dropping all stockcodes that contain only strings\n",
    "CodeTypes = list(map(lambda codes: any(char.isdigit() for char in codes), Data['StockCode']))\n",
    "IrrelevantCodes = [i for i,v in enumerate(CodeTypes) if v == False]\n",
    "Data.drop(IrrelevantCodes , inplace = True)\n",
    "\n",
    "#Removing Outliers Based on Z-score\n",
    "Data = Data[(np.abs(sp.stats.zscore(Data['UnitPrice']))<3) & (np.abs(sp.stats.zscore(Data['Quantity']))<5)]\n",
    "count_row = Data.shape[0]\n",
    "count_row"
   ]
  },
  {
   "cell_type": "code",
   "execution_count": 21,
   "id": "5f98a0db",
   "metadata": {},
   "outputs": [
    {
     "data": {
      "text/plain": [
       "532820"
      ]
     },
     "execution_count": 21,
     "metadata": {},
     "output_type": "execute_result"
    }
   ],
   "source": [
    "# Missing & Incorrect Values\n",
    "Data.drop(Data[(Data.Quantity>0) & (Data.InvoiceNo.str.contains('C') == True)].index, inplace = True)\n",
    "Data.drop(Data[(Data.Quantity<0) & (Data.InvoiceNo.str.contains('C') == False)].index, inplace = True)\n",
    "Data.drop(Data[Data.Description.str.contains('?',regex=False) == True].index, inplace = True)\n",
    "Data.drop(Data[Data.UnitPrice == 0].index, inplace = True)\n",
    "\n",
    "for index,value in Data.StockCode[Data.Description.isna()==True].items():\n",
    "    if pd.notna(Data.Description[Data.StockCode == value]).sum() != 0:\n",
    "        Data.Description[index] = Data.Description[Data.StockCode == value].mode()[0]\n",
    "    else:\n",
    "        Data.drop(index = index, inplace = True)\n",
    "        \n",
    "Data['Description'] = Data['Description'].astype(str)\n",
    "count_row = Data.shape[0]\n",
    "count_row"
   ]
  },
  {
   "cell_type": "code",
   "execution_count": 15,
   "id": "b3461dfd",
   "metadata": {},
   "outputs": [
    {
     "data": {
      "text/plain": [
       "UNITED KINGDOM          0.915919\n",
       "GERMANY                 0.016962\n",
       "FRANCE                  0.015372\n",
       "EIRE                    0.015049\n",
       "SPAIN                   0.004600\n",
       "NETHERLANDS             0.004331\n",
       "SWITZERLAND             0.003677\n",
       "BELGIUM                 0.003671\n",
       "PORTUGAL                0.002750\n",
       "AUSTRALIA               0.002346\n",
       "NORWAY                  0.001971\n",
       "ITALY                   0.001461\n",
       "CHANNEL ISLANDS         0.001403\n",
       "FINLAND                 0.001218\n",
       "CYPRUS                  0.001138\n",
       "UNSPECIFIED             0.000833\n",
       "SWEDEN                  0.000816\n",
       "AUSTRIA                 0.000723\n",
       "DENMARK                 0.000701\n",
       "JAPAN                   0.000659\n",
       "POLAND                  0.000622\n",
       "ISRAEL                  0.000549\n",
       "USA                     0.000544\n",
       "HONG KONG               0.000519\n",
       "SINGAPORE               0.000398\n",
       "ICELAND                 0.000340\n",
       "CANADA                  0.000280\n",
       "GREECE                  0.000263\n",
       "MALTA                   0.000230\n",
       "UNITED ARAB EMIRATES    0.000125\n",
       "EUROPEAN COMMUNITY      0.000108\n",
       "RSA                     0.000106\n",
       "LEBANON                 0.000084\n",
       "LITHUANIA               0.000065\n",
       "BRAZIL                  0.000060\n",
       "CZECH REPUBLIC          0.000052\n",
       "BAHRAIN                 0.000035\n",
       "SAUDI ARABIA            0.000019\n",
       "Name: Country, dtype: float64"
      ]
     },
     "execution_count": 15,
     "metadata": {},
     "output_type": "execute_result"
    }
   ],
   "source": [
    "#Country\n",
    "\n",
    "Data.Country.value_counts(normalize=True)\n",
    "#We can see that there is maximum proportion (More than 90% of customers) \n",
    "#of 'United Kingdom' customers. So we will take 'United Kingdom' customer for our analysis."
   ]
  },
  {
   "cell_type": "code",
   "execution_count": 16,
   "id": "706f6b94",
   "metadata": {},
   "outputs": [
    {
     "data": {
      "text/plain": [
       "CustomerID\n",
       "12370           [CYPRUS, AUSTRIA]\n",
       "12394          [BELGIUM, DENMARK]\n",
       "12417            [BELGIUM, SPAIN]\n",
       "12422    [AUSTRALIA, SWITZERLAND]\n",
       "12429          [DENMARK, AUSTRIA]\n",
       "12431        [AUSTRALIA, BELGIUM]\n",
       "12455             [CYPRUS, SPAIN]\n",
       "12457       [SWITZERLAND, CYPRUS]\n",
       "Name: Country, dtype: object"
      ]
     },
     "execution_count": 16,
     "metadata": {},
     "output_type": "execute_result"
    }
   ],
   "source": [
    "#Customers with Different Countries\n",
    "Customers = Data.groupby('CustomerID')['Country'].unique()\n",
    "Customers.loc[Customers.apply(lambda x:len(x)>1)]"
   ]
  },
  {
   "cell_type": "code",
   "execution_count": 22,
   "id": "b2443d33",
   "metadata": {
    "scrolled": true
   },
   "outputs": [],
   "source": [
    "\n",
    "#Fixing Duplicate CustomerIDs\n",
    "for i,v in Data.groupby('CustomerID')['Country'].unique().items():\n",
    "    if len(v)>1:\n",
    "        Data.Country[Data['CustomerID'] == i] = Data.Country[Data['CustomerID'] == i].mode()[0]\n",
    "\n",
    "#Adding Desired Features\n",
    "Data['FinalPrice'] = Data['Quantity']*Data['UnitPrice']\n",
    "Data['InvoiceMonth'] = pd.DatetimeIndex(Data['InvoiceDate']).strftime('%b')\n",
    "Data['Day of week'] = pd.DatetimeIndex(Data['InvoiceDate']).strftime('%A')\n",
    "Data['Date'] = pd.DatetimeIndex(Data['InvoiceDate']).strftime('%Y-%m')\n"
   ]
  },
  {
   "cell_type": "code",
   "execution_count": 23,
   "id": "c5ce8415",
   "metadata": {},
   "outputs": [],
   "source": [
    "#Exporting Processed Data\n",
    "Data.to_csv(r'D:/SEM 4/DAB402 - CAPSTONE PROJECT/Cleansed_Dataset/OnlineRetail_Cleaned.csv', date_format = '%Y-%m-%d %H:%M', index = False)"
   ]
  },
  {
   "cell_type": "code",
   "execution_count": 37,
   "id": "349b9114",
   "metadata": {},
   "outputs": [],
   "source": []
  },
  {
   "cell_type": "code",
   "execution_count": null,
   "id": "709db7b2",
   "metadata": {},
   "outputs": [],
   "source": []
  }
 ],
 "metadata": {
  "kernelspec": {
   "display_name": "Python 3",
   "language": "python",
   "name": "python3"
  },
  "language_info": {
   "codemirror_mode": {
    "name": "ipython",
    "version": 3
   },
   "file_extension": ".py",
   "mimetype": "text/x-python",
   "name": "python",
   "nbconvert_exporter": "python",
   "pygments_lexer": "ipython3",
   "version": "3.8.8"
  }
 },
 "nbformat": 4,
 "nbformat_minor": 5
}
